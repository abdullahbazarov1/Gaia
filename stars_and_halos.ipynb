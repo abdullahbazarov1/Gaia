{
 "cells": [
  {
   "cell_type": "code",
   "execution_count": 8,
   "id": "prescription-clearance",
   "metadata": {},
   "outputs": [],
   "source": [
    "import pickle\n",
    "import matplotlib.pyplot as plt\n",
    "import matplotlib.colors\n",
    "import time\n",
    "\n",
    "import h5py\n",
    "import numpy as np\n",
    "import os\n",
    "import pickle\n",
    "import tqdm\n",
    "import glob\n",
    "import mplhep\n",
    "import astropy.coordinates as coord\n",
    "import astropy.units as u"
   ]
  },
  {
   "cell_type": "markdown",
   "id": "civilian-intersection",
   "metadata": {},
   "source": [
    "## Load the output of AHF\n"
   ]
  },
  {
   "cell_type": "code",
   "execution_count": 5,
   "id": "unexpected-authorization",
   "metadata": {},
   "outputs": [],
   "source": [
    "filepath = \"/home/abdullahbazarov1/ML_gaia_old/\"\n",
    "# filepath = \"/scratch-persistent/gaia/m12f/ahf/\"\n",
    "halos    = np.genfromtxt(filepath + \"m12f-v2.z0.000.AHF_halos\", unpack=True)\n",
    "# hubble parameter @ z=0\n",
    "h        = 0.702\n",
    "# center ML-like halo (taken from m12f_res7100_center.txt)\n",
    "center_x = 38711.76113 # kpc\n",
    "center_y = 47665.07165 # kpc\n",
    "center_z = 46817.26447 # kpc\n",
    "\n",
    "id_halos = halos[0]\n",
    "id_host  = halos[1]\n",
    "Nsb      = halos[2] # number of substructures\n",
    "Mvir     = halos[3]/h # total or virial mass of DM (sub)halos\n",
    "Np       = halos[4] # number of particles contained within a (sub)halos\n",
    "# (x_halos, y_halos, z_halos) are center of DM (sub)halos found by AHF\n",
    "x_halos  = halos[5]/h-center_x\n",
    "y_halos  = halos[6]/h-center_y\n",
    "z_halos  = halos[7]/h-center_z\n",
    "Vmax     = halos[16]\n",
    "\n",
    "# principal axes rotation vectors (taken from m12f_res7100_center.txt)\n",
    "rotation_vectors = np.asarray([[-0.464385978922, 0.291482979130, 0.836291417784], \n",
    "                               [0.708714933465, -0.443966939801, 0.548285053095], \n",
    "                               [0.531101502223, 0.847308107622, -0.000406318212]])\n",
    "\n",
    "coordinate_vectors = np.transpose(np.asarray([x_halos, y_halos, z_halos]))\n",
    "\n",
    "coordinate_vectors_rot = np.asarray( np.dot(coordinate_vectors, rotation_vectors.transpose()), \n",
    "                                    dtype=coordinate_vectors.dtype)\n",
    "\n",
    "x_halos = coordinate_vectors_rot[:, 0]\n",
    "y_halos = coordinate_vectors_rot[:, 1]\n",
    "z_halos = coordinate_vectors_rot[:, 2] \n",
    "r_halos  = np.sqrt(np.power(x_halos, 2) + np.power(y_halos, 2) + np.power(z_halos, 2))"
   ]
  },
  {
   "cell_type": "markdown",
   "id": "brutal-force",
   "metadata": {},
   "source": [
    "### Halo preselection"
   ]
  },
  {
   "cell_type": "code",
   "execution_count": 9,
   "id": "intermediate-activation",
   "metadata": {},
   "outputs": [],
   "source": [
    "filename = filepath +\"m12f-v2.z0.000.AHF_substructure\"\n",
    "def halo_id(filename):\n",
    "    haloname = {}\n",
    "    for iline, line in enumerate(open(filename).readlines()):\n",
    "        if iline%2==0:\n",
    "            ihalo, nsub = [int(x) for x in line.strip().split()]\n",
    "            haloname[ihalo] = []\n",
    "        else:\n",
    "            subhalos = [int(x) for x in line.strip().split()]\n",
    "            assert(len(subhalos) == nsub)\n",
    "            haloname[ihalo] = subhalos\n",
    "    return haloname\n",
    "subhaloid = np.array(list(halo_id(filename)[0]))\n",
    "other_subhaloid = []\n",
    "all_subhaloid = []\n",
    "\n",
    "for i in halo_id(filename).keys():\n",
    "    all_subhaloid= np.hstack((halo_id(filename)[i], all_subhaloid))\n",
    "\n",
    "other_subhaloid = np.setdiff1d( all_subhaloid, subhaloid)\n",
    "\n",
    "location300_25 = []\n",
    "cond1 = np.where(r_halos < 300) \n",
    "cond2 = np.where(Vmax > 5)\n",
    "cond3 = np.where(r_halos > 25)\n",
    "position2 = np.intersect1d(cond1,cond2)\n",
    "position1 = np.intersect1d(position2,cond3)\n",
    "\n",
    "for i in range (len(position1)):\n",
    "    if (position1[i] in subhaloid):\n",
    "        location300_25.append(position1[i])\n",
    "    elif(position1[i] not in other_subhaloid):\n",
    "            location300_25.append(position1[i])\n",
    "\n",
    "            \n",
    "np.hstack(location300_25)\n",
    "pos = location300_25\n",
    "r_halos = r_halos*u.kpc\n",
    "x_halos = x_halos*u.kpc\n",
    "y_halos = y_halos*u.kpc\n",
    "z_halos = z_halos*u.kpc"
   ]
  },
  {
   "cell_type": "markdown",
   "id": "facial-brief",
   "metadata": {},
   "source": [
    "### Star files"
   ]
  },
  {
   "cell_type": "code",
   "execution_count": 13,
   "id": "humanitarian-marker",
   "metadata": {},
   "outputs": [],
   "source": [
    "arrs = []\n",
    "for fn in glob.glob(\"../ML_gaia/output/stars_shuf_*.npz\")[:20]:\n",
    "    arrs.append(np.load(fn)[\"gaia_data\"])\n",
    "selected_stars = np.concatenate(arrs)\n",
    "\n",
    "c1 = coord.SkyCoord(ra=selected_stars[:, 0]*u.degree, dec=selected_stars[:, 2]*u.degree,\n",
    "                    distance=(selected_stars[:, 4]*u.mas).to(u.pc, u.parallax()),\n",
    "                    pm_ra_cosdec=selected_stars[:, 6]*u.mas/u.yr,\n",
    "                    pm_dec=selected_stars[:, 8]*u.mas/u.yr,\n",
    "                    radial_velocity=np.isnan(selected_stars[:, 15])*u.km/u.s,\n",
    "                    frame='icrs')\n",
    "v_center= [ 226.184921, 14.377288, -4.890565] * (u.km / u.s)  # [vx, vy, vz]\n",
    "gc_frame = coord.Galactocentric( galcen_distance=8.2*u.kpc,galcen_v_sun=v_center, z_sun=0*u.pc)\n",
    "gc1 = c1.transform_to(gc_frame)\n",
    "x_stars = (gc1.x).to(u.kpc)\n",
    "y_stars = (gc1.y).to(u.kpc)\n",
    "z_stars = (gc1.z).to(u.kpc)\n",
    "r_stars = (x_stars**2+y_stars**2+z_stars**2)**0.5"
   ]
  },
  {
   "cell_type": "code",
   "execution_count": 15,
   "id": "residential-excerpt",
   "metadata": {},
   "outputs": [
    {
     "data": {
      "text/plain": [
       "3.610323190689087"
      ]
     },
     "execution_count": 15,
     "metadata": {},
     "output_type": "execute_result"
    }
   ],
   "source": [
    "# Finding the distance between stars and halos\n",
    "# Last two cells shuld run for all dataset\n",
    "start = time.time()\n",
    "#Run commented code for selected dataset\n",
    "\n",
    "# dist =((x_stars[:, np.newaxis]-x_halos[pos])**2 \n",
    "#        + (y_stars[:, np.newaxis]-y_halos[pos])**2 \n",
    "#        + (z_stars[:, np.newaxis]-z_halos[pos])**2)**0.5    \n",
    "\n",
    "# for example (comment or delete this code)\n",
    "dist =((x_stars[:100000, np.newaxis]-x_halos[pos])**2 \n",
    "       + (y_stars[:100000, np.newaxis]-y_halos[pos])**2 \n",
    "       + (z_stars[:100000, np.newaxis]-z_halos[pos])**2)**0.5    \n",
    "\n",
    "\n",
    "end = time.time() \n",
    "end-start"
   ]
  },
  {
   "cell_type": "code",
   "execution_count": 16,
   "id": "steady-world",
   "metadata": {},
   "outputs": [],
   "source": [
    "# dist = np.concatenate((dist1,dist2,dist3,dist4,dist5, ... distn),axis=1) #collecting outputs in one file"
   ]
  },
  {
   "cell_type": "markdown",
   "id": "planned-skirt",
   "metadata": {},
   "source": [
    "### Statistics"
   ]
  },
  {
   "cell_type": "code",
   "execution_count": 22,
   "id": "sharp-remove",
   "metadata": {},
   "outputs": [
    {
     "name": "stderr",
     "output_type": "stream",
     "text": [
      "/usr/local/lib/python3.6/dist-packages/astropy/units/quantity.py:477: RuntimeWarning: invalid value encountered in less\n",
      "  result = super().__array_ufunc__(function, method, *arrays, **kwargs)\n"
     ]
    },
    {
     "data": {
      "text/plain": [
       "(array([False,  True]), array([98617,  1383]))"
      ]
     },
     "execution_count": 22,
     "metadata": {},
     "output_type": "execute_result"
    }
   ],
   "source": [
    "d_max = 10*u.kpc\n",
    "np.unique(np.sum(dist<d_max, axis=1)>0, return_counts=True)"
   ]
  },
  {
   "cell_type": "code",
   "execution_count": 23,
   "id": "mediterranean-access",
   "metadata": {},
   "outputs": [
    {
     "data": {
      "image/png": "[encoded data removed]",
      "text/plain": [
       "<Figure size 432x288 with 1 Axes>"
      ]
     },
     "metadata": {
      "needs_background": "light"
     },
     "output_type": "display_data"
    }
   ],
   "source": [
    "plt.hist(np.sum(dist<d_max, axis=0), bins = 100)\n",
    "plt.yscale('log')\n"
   ]
  },
  {
   "cell_type": "code",
   "execution_count": 24,
   "id": "understood-parker",
   "metadata": {},
   "outputs": [
    {
     "data": {
      "image/png": "[encoded data removed]",
      "text/plain": [
       "<Figure size 504x504 with 1 Axes>"
      ]
     },
     "metadata": {
      "needs_background": "light"
     },
     "output_type": "display_data"
    }
   ],
   "source": [
    "fig, ax = plt.subplots(1, 1, figsize=(7, 7))\n",
    "loc = np.where(dist < d_max)\n",
    "values, base = np.histogram(dist[loc], bins=100)\n",
    "cumulative = np.cumsum(values)\n",
    "ax.plot(base[:-1], cumulative, c=\"blue\", lw=2.5, label=\"dist < d_max\")\n",
    "ax.set_yscale(\"log\")\n",
    "# ax.set_xscale(\"log\")\n",
    "ax.set_xlabel(\"d_max [kpc]\")\n",
    "ax.set_ylabel(\"N(<d_max)\") \n",
    "ax.legend(frameon=False)\n",
    "ax.set_xlim([0, d_max/u.kpc])\n",
    "ax.grid(which=\"both\", ls=\"--\", alpha=0.5)"
   ]
  },
  {
   "cell_type": "code",
   "execution_count": 25,
   "id": "agricultural-arlington",
   "metadata": {},
   "outputs": [
    {
     "name": "stderr",
     "output_type": "stream",
     "text": [
      "/usr/local/lib/python3.6/dist-packages/astropy/units/quantity.py:477: RuntimeWarning: invalid value encountered in less\n",
      "  result = super().__array_ufunc__(function, method, *arrays, **kwargs)\n"
     ]
    },
    {
     "data": {
      "text/plain": [
       "2.000040000800016e-05"
      ]
     },
     "execution_count": 25,
     "metadata": {},
     "output_type": "execute_result"
    },
    {
     "data": {
      "image/png": "[encoded data removed]",
      "text/plain": [
       "<Figure size 432x288 with 1 Axes>"
      ]
     },
     "metadata": {
      "needs_background": "light"
     },
     "output_type": "display_data"
    }
   ],
   "source": [
    "hist = plt.hist(np.sum(dist<1*u.kpc, axis=1), bins = 100)\n",
    "plt.yscale('log')\n",
    "counts, bins, _ = hist\n",
    "np.sum(counts[1:]) / counts[0]\n"
   ]
  },
  {
   "cell_type": "code",
   "execution_count": 26,
   "id": "matched-medline",
   "metadata": {},
   "outputs": [
    {
     "data": {
      "text/plain": [
       "[<matplotlib.lines.Line2D at 0x7f2feb2bd0b8>]"
      ]
     },
     "execution_count": 26,
     "metadata": {},
     "output_type": "execute_result"
    },
    {
     "data": {
      "image/png": "[encoded data removed]",
      "text/plain": [
       "<Figure size 432x288 with 1 Axes>"
      ]
     },
     "metadata": {
      "needs_background": "light"
     },
     "output_type": "display_data"
    }
   ],
   "source": [
    "ratio = counts[1]/counts[0]\n",
    "def compute_ratio(d_max):\n",
    "    mask_dist = np.sum(dist<d_max, axis=1)>0\n",
    "    n0 = np.sum(mask_dist==0)\n",
    "    n1 = np.sum(mask_dist==1)\n",
    "    ratio = n1/n0\n",
    "    return ratio\n",
    "xs = np.linspace(0.1*u.kpc, 2*u.kpc, 10)\n",
    "ratios = [compute_ratio(x) for x in xs]\n",
    "plt.plot(xs, ratios) \n"
   ]
  },
  {
   "cell_type": "code",
   "execution_count": null,
   "id": "native-unknown",
   "metadata": {},
   "outputs": [],
   "source": []
  }
 ],
 "metadata": {
  "kernelspec": {
   "display_name": "Python 3",
   "language": "python",
   "name": "python3"
  },
  "language_info": {
   "codemirror_mode": {
    "name": "ipython",
    "version": 3
   },
   "file_extension": ".py",
   "mimetype": "text/x-python",
   "name": "python",
   "nbconvert_exporter": "python",
   "pygments_lexer": "ipython3",
   "version": "3.6.9"
  }
 },
 "nbformat": 4,
 "nbformat_minor": 5
}
